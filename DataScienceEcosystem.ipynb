{
 "cells": [
  {
   "cell_type": "markdown",
   "id": "74dcc36c-5a8c-40f7-b5e4-ae303f27c48b",
   "metadata": {},
   "source": [
    "# Data Science Tools and Ecosystem"
   ]
  },
  {
   "cell_type": "markdown",
   "id": "22ab94ea-dc13-4a6e-b286-180645682a86",
   "metadata": {},
   "source": [
    "In this notebook, Data Science Tools and Ecosystem are summarized."
   ]
  },
  {
   "cell_type": "markdown",
   "id": "faed95f7-f0eb-49d9-90b0-2b43cae8ef89",
   "metadata": {},
   "source": [
    "Some of the popular languages that Data Scientists use are:\n",
    "1) Python\n",
    "2) R\n",
    "3) Java"
   ]
  },
  {
   "cell_type": "markdown",
   "id": "ea40c81b-260d-4722-8086-7a3448e6c171",
   "metadata": {},
   "source": [
    "Some of the commonly used libraries used by Data Scientists include: \n",
    "1) NumPy\n",
    "2) ggplot\n",
    "3) Pandas\n",
    "4) Matplotlib"
   ]
  },
  {
   "cell_type": "markdown",
   "id": "6d0d4fc6-ce8b-473e-a25a-45438deb6b69",
   "metadata": {},
   "source": [
    "| Data Science Tools        |\n",
    "|---------------------------|\n",
    "| Jupyter Notebooks         |\n",
    "| RStudio                   |\n",
    "| Apache Zeppelin           |\n"
   ]
  },
  {
   "cell_type": "markdown",
   "id": "8dbebf17-ed09-4e66-aeee-a4d625a36e98",
   "metadata": {},
   "source": [
    "### Below are a few examples of evaluating arithmetic expressions in Python"
   ]
  },
  {
   "cell_type": "code",
   "execution_count": 17,
   "id": "33b3ba7d-0d6b-41bc-bc03-c519148e62f0",
   "metadata": {},
   "outputs": [
    {
     "name": "stdout",
     "output_type": "stream",
     "text": [
      "4\n",
      "2\n",
      "-1\n"
     ]
    }
   ],
   "source": [
    "print(2*2)\n",
    "print(1+1)\n",
    "print(5-6)\n"
   ]
  },
  {
   "cell_type": "code",
   "execution_count": 21,
   "id": "c7663be3-8b86-4628-9fbb-a47ae211327b",
   "metadata": {},
   "outputs": [
    {
     "data": {
      "text/plain": [
       "17"
      ]
     },
     "execution_count": 21,
     "metadata": {},
     "output_type": "execute_result"
    }
   ],
   "source": [
    "#This a simple arithmetic expression to mutiply then add integers\n",
    "(3*4)+5"
   ]
  },
  {
   "cell_type": "code",
   "execution_count": 23,
   "id": "2bf87dea-d506-49d6-8645-05f0e7d2712f",
   "metadata": {},
   "outputs": [
    {
     "data": {
      "text/plain": [
       "3.3333333333333335"
      ]
     },
     "execution_count": 23,
     "metadata": {},
     "output_type": "execute_result"
    }
   ],
   "source": [
    "#This will convert 200 minutes to hours by diving by 60\n",
    "200/60"
   ]
  },
  {
   "cell_type": "markdown",
   "id": "00432243-588e-4b64-b133-e83da863f1ec",
   "metadata": {},
   "source": [
    "**Objectives:**\n",
    "  * List popular languages for Data Science\n",
    "  * List commonly used libraries used by Data Scientists\n",
    "  * convert 200 minutes to hours"
   ]
  },
  {
   "cell_type": "markdown",
   "id": "ee2df92f-9561-4348-bead-04e02c19f16e",
   "metadata": {},
   "source": [
    "## Author\n",
    "Rubén Cuéllar"
   ]
  },
  {
   "cell_type": "code",
   "execution_count": null,
   "id": "8185f5b6-979b-487b-8d5c-6753c98beb80",
   "metadata": {},
   "outputs": [],
   "source": []
  }
 ],
 "metadata": {
  "kernelspec": {
   "display_name": "Python 3 (ipykernel)",
   "language": "python",
   "name": "python3"
  },
  "language_info": {
   "codemirror_mode": {
    "name": "ipython",
    "version": 3
   },
   "file_extension": ".py",
   "mimetype": "text/x-python",
   "name": "python",
   "nbconvert_exporter": "python",
   "pygments_lexer": "ipython3",
   "version": "3.12.4"
  }
 },
 "nbformat": 4,
 "nbformat_minor": 5
}
